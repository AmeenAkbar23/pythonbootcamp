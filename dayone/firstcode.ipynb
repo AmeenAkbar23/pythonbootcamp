{
  "nbformat": 4,
  "nbformat_minor": 0,
  "metadata": {
    "colab": {
      "provenance": []
    },
    "kernelspec": {
      "name": "python3",
      "display_name": "Python 3"
    },
    "language_info": {
      "name": "python"
    }
  },
  "cells": [
    {
      "cell_type": "code",
      "execution_count": 1,
      "metadata": {
        "colab": {
          "base_uri": "https://localhost:8080/"
        },
        "id": "IUOs_SBJLMp1",
        "outputId": "92959952-dc82-4608-b4b5-a80bb28e48ce"
      },
      "outputs": [
        {
          "output_type": "stream",
          "name": "stdout",
          "text": [
            "hello world\n"
          ]
        }
      ],
      "source": [
        "print(\"hello world\")"
      ]
    },
    {
      "cell_type": "markdown",
      "source": [],
      "metadata": {
        "id": "A21TQ42eLvKr"
      }
    },
    {
      "cell_type": "code",
      "source": [
        "print(\"new\")"
      ],
      "metadata": {
        "colab": {
          "base_uri": "https://localhost:8080/"
        },
        "id": "Uj4osBljLyzK",
        "outputId": "6e3dcc91-b5d7-47d7-f478-fd896aa27c39"
      },
      "execution_count": 2,
      "outputs": [
        {
          "output_type": "stream",
          "name": "stdout",
          "text": [
            "new\n"
          ]
        }
      ]
    },
    {
      "cell_type": "markdown",
      "source": [
        "here you can write notes\n"
      ],
      "metadata": {
        "id": "3tLc3tgdLp_j"
      }
    }
  ]
}